{
  "nbformat": 4,
  "nbformat_minor": 0,
  "metadata": {
    "colab": {
      "name": "text_classification.ipynb",
      "provenance": [],
      "collapsed_sections": []
    },
    "kernelspec": {
      "name": "python3",
      "display_name": "Python 3"
    },
    "language_info": {
      "name": "python"
    }
  },
  "cells": [
    {
      "cell_type": "markdown",
      "source": [
        "# Классификация текстов"
      ],
      "metadata": {
        "id": "h8PiU2ML-4Jf"
      }
    },
    {
      "cell_type": "markdown",
      "source": [
        "**Условие:**\n",
        "\n",
        "Разработать скрипт, который будет с адекватным качеством классифицировать тексты по стилю (“разговорный”, “техническая литература”, “художественная литература”). \n",
        "\n",
        "(качество может быть ограничено лимитированным временем).\n",
        "\n",
        "Обучающий датасет не предоставляется. "
      ],
      "metadata": {
        "id": "xlBm33AR_Ekg"
      }
    },
    {
      "cell_type": "code",
      "source": [
        "import pandas as pd\n",
        "import matplotlib.pyplot as plt\n",
        "import random\n",
        "import numpy as np"
      ],
      "metadata": {
        "id": "3V58q9mjB5il"
      },
      "execution_count": 1,
      "outputs": []
    },
    {
      "cell_type": "markdown",
      "source": [
        "## Разговорный датасет"
      ],
      "metadata": {
        "id": "MK9OKWU__E39"
      }
    },
    {
      "cell_type": "markdown",
      "source": [
        "Для разговорных примеров возьмем датасет состоящий из твиттов пользователей https://www.kaggle.com/jp797498e/twitter-entity-sentiment-analysis/version/2?select=twitter_training.csv"
      ],
      "metadata": {
        "id": "il83YRMi_R98"
      }
    },
    {
      "cell_type": "code",
      "source": [
        "def draw_stats(data):\n",
        "  plt.hist(data.apply(lambda x: len(x[0]), axis=1))\n",
        "  print(\"stats : \", data.apply(lambda x: len(x[0]), axis=1).describe(), sep=\"\\n\")\n",
        "  print(\"samples = \", len(data))\n",
        "  print(data.head())"
      ],
      "metadata": {
        "id": "DkWiMqHkBv2f"
      },
      "execution_count": 2,
      "outputs": []
    },
    {
      "cell_type": "code",
      "source": [
        "сolloquialism_data = pd.read_csv('twitter_training.csv', usecols=[3], names=['text'])\n",
        "сolloquialism_data[\"text\"] = сolloquialism_data[\"text\"].astype(str)\n",
        "сolloquialism_data[\"target\"] = 0\n",
        "draw_stats(сolloquialism_data)"
      ],
      "metadata": {
        "colab": {
          "base_uri": "https://localhost:8080/",
          "height": 571
        },
        "id": "sKiL9EIU-1iU",
        "outputId": "6ba99517-bd9c-4ac4-931d-59b7e3b2f5dc"
      },
      "execution_count": 3,
      "outputs": [
        {
          "output_type": "stream",
          "name": "stdout",
          "text": [
            "stats : \n",
            "count    74682.000000\n",
            "mean       107.811963\n",
            "std         79.798839\n",
            "min          1.000000\n",
            "25%         45.000000\n",
            "50%         90.000000\n",
            "75%        152.000000\n",
            "max        957.000000\n",
            "dtype: float64\n",
            "samples =  74682\n",
            "                                                text  target\n",
            "0  im getting on borderlands and i will murder yo...       0\n",
            "1  I am coming to the borders and I will kill you...       0\n",
            "2  im getting on borderlands and i will kill you ...       0\n",
            "3  im coming on borderlands and i will murder you...       0\n",
            "4  im getting on borderlands 2 and i will murder ...       0\n"
          ]
        },
        {
          "output_type": "display_data",
          "data": {
            "image/png": "[encoded data removed]",
            "text/plain": [
              "<Figure size 432x288 with 1 Axes>"
            ]
          },
          "metadata": {
            "needs_background": "light"
          }
        }
      ]
    },
    {
      "cell_type": "markdown",
      "source": [
        "Имеем 75 тысяч примеров со средней длинной в 40-150 символов"
      ],
      "metadata": {
        "id": "C7C_A99n_hf1"
      }
    },
    {
      "cell_type": "markdown",
      "source": [
        "## Техническая литература"
      ],
      "metadata": {
        "id": "8pxJuNmU_wcf"
      }
    },
    {
      "cell_type": "markdown",
      "source": [
        "В качестве технической литературы был взят датасет со статьями с конференции NIPS - https://www.kaggle.com/benhamner/nips-papers"
      ],
      "metadata": {
        "id": "zLbkH4QG_z6o"
      }
    },
    {
      "cell_type": "code",
      "source": [
        "tech_data = pd.read_csv('papers.csv', usecols=[\"paper_text\"])\n",
        "tech_data[\"text\"] = tech_data[\"paper_text\"].astype(str)\n",
        "tech_data[\"target\"] = 1\n",
        "tech_data = tech_data.drop('paper_text', 1)\n",
        "\n",
        "draw_stats(tech_data)"
      ],
      "metadata": {
        "colab": {
          "base_uri": "https://localhost:8080/",
          "height": 571
        },
        "id": "_S31QMUMdpUa",
        "outputId": "588cc14e-5309-4cbc-8cb9-f1dcaf9b581d"
      },
      "execution_count": 4,
      "outputs": [
        {
          "output_type": "stream",
          "name": "stdout",
          "text": [
            "stats : \n",
            "count      7241.000000\n",
            "mean      28341.271371\n",
            "std        7769.765284\n",
            "min           9.000000\n",
            "25%       21827.000000\n",
            "50%       29536.000000\n",
            "75%       34219.000000\n",
            "max      123727.000000\n",
            "dtype: float64\n",
            "samples =  7241\n",
            "                                                text  target\n",
            "0  767\\n\\nSELF-ORGANIZATION OF ASSOCIATIVE DATABA...       1\n",
            "1  683\\n\\nA MEAN FIELD THEORY OF LAYER IV OF VISU...       1\n",
            "2  394\\n\\nSTORING COVARIANCE BY THE ASSOCIATIVE\\n...       1\n",
            "3  Bayesian Query Construction for Neural\\nNetwor...       1\n",
            "4  Neural Network Ensembles, Cross\\nValidation, a...       1\n"
          ]
        },
        {
          "output_type": "display_data",
          "data": {
            "image/png": "[encoded data removed]",
            "text/plain": [
              "<Figure size 432x288 with 1 Axes>"
            ]
          },
          "metadata": {
            "needs_background": "light"
          }
        }
      ]
    },
    {
      "cell_type": "markdown",
      "source": [
        "Тут мы видим, что длинна текстов намного больше, чем у твиттера. Поэтому давайте возьмем случайные подстроки из каждой статьи длинной от 40 до 150 символов так, чтобы размеры датасетов совпадали"
      ],
      "metadata": {
        "id": "743wRWzI_-LZ"
      }
    },
    {
      "cell_type": "code",
      "source": [
        "def get_random_str(main_str):\n",
        "    substr_len = random.randint(min(len(main_str), 40), min(len(main_str), 150))\n",
        "    start = random.randrange(0, len(main_str) - substr_len + 1)\n",
        "    return main_str[start : (start + substr_len)]\n",
        "\n",
        "def extract_random_substrings(x):\n",
        "    for i in range(count):\n",
        "      generated_data.append(get_random_str(x))"
      ],
      "metadata": {
        "id": "4TU37NvHwvxy"
      },
      "execution_count": 5,
      "outputs": []
    },
    {
      "cell_type": "code",
      "source": [
        "generated_data = []\n",
        "count = 10\n",
        "tech_data[\"text\"].apply(extract_random_substrings)\n",
        "\n",
        "tech_data_parsed = pd.DataFrame(data={\"text\": generated_data, \"target\": [1] * len(generated_data)})\n",
        "\n",
        "draw_stats(tech_data_parsed)"
      ],
      "metadata": {
        "colab": {
          "base_uri": "https://localhost:8080/",
          "height": 571
        },
        "id": "rGngqZXytwfb",
        "outputId": "e82c742d-749f-44cd-9b2b-7750a367a34c"
      },
      "execution_count": 6,
      "outputs": [
        {
          "output_type": "stream",
          "name": "stdout",
          "text": [
            "stats : \n",
            "count    72410.000000\n",
            "mean        94.949441\n",
            "std         32.063320\n",
            "min          9.000000\n",
            "25%         67.000000\n",
            "50%         95.000000\n",
            "75%        123.000000\n",
            "max        150.000000\n",
            "dtype: float64\n",
            "samples =  72410\n",
            "                                                text  target\n",
            "0  tiveness.\\nWe denote a sequence of observed sa...       1\n",
            "1  e\\nrecursive type shows strongly its effective...       1\n",
            "2  a sample sequence\\nof (x, y) reflecting the co...       1\n",
            "3  laboratories exist in (Fig. 5). Because of an ...       1\n",
            "4  eaf.\\nNotations nand\\nd(xt, x[n)), let n\\n\\nn ...       1\n"
          ]
        },
        {
          "output_type": "display_data",
          "data": {
            "image/png": "[encoded data removed]",
            "text/plain": [
              "<Figure size 432x288 with 1 Axes>"
            ]
          },
          "metadata": {
            "needs_background": "light"
          }
        }
      ]
    },
    {
      "cell_type": "markdown",
      "source": [
        "Получили примерно такое же количество примеров, что и для твиттера, с примерно таким же количеством символов в каждом примере"
      ],
      "metadata": {
        "id": "ep57F9kIAJ7q"
      }
    },
    {
      "cell_type": "markdown",
      "source": [
        "## Художественная литература"
      ],
      "metadata": {
        "id": "dFa9dqGVAQ_3"
      }
    },
    {
      "cell_type": "markdown",
      "source": [
        "В качестве примеров художественной литературы были взяти несколько классических произведений в txt формате"
      ],
      "metadata": {
        "id": "KNbFfsrPAVen"
      }
    },
    {
      "cell_type": "code",
      "source": [
        "lit_datas = []\n",
        "for filename in (\"alice.txt\", \"austen-emma-754.txt\", \"kipling-jungle-148.txt\", \n",
        "                 \"london-call-203.txt\", \"mobydick.txt\", \"dracula.txt\", \"journey.txt\"):\n",
        "  lit_current = pd.DataFrame(data={\"text\": [open(filename).read()], \"target\": [2]})\n",
        "  lit_datas.append(lit_current)\n",
        "\n",
        "lit_data = pd.concat(lit_datas)\n",
        "\n",
        "draw_stats(lit_data)"
      ],
      "metadata": {
        "colab": {
          "base_uri": "https://localhost:8080/",
          "height": 584
        },
        "id": "7OY0__v6dtcO",
        "outputId": "8bceb24c-a323-4e6c-ce60-3f8c07f44137"
      },
      "execution_count": 7,
      "outputs": [
        {
          "output_type": "stream",
          "name": "stdout",
          "text": [
            "stats : \n",
            "count    7.000000e+00\n",
            "mean     5.838939e+05\n",
            "std      4.098368e+05\n",
            "min      1.508860e+05\n",
            "25%      2.269905e+05\n",
            "50%      5.253770e+05\n",
            "75%      8.758045e+05\n",
            "max      1.205404e+06\n",
            "dtype: float64\n",
            "samples =  7\n",
            "                                                text  target\n",
            "0            PROJECT GUTENBERG AND DUNCAN RESEARC...       2\n",
            "0  [pg/etext94/emma10.txt]\\n\\nEmma, by Jane Auste...       2\n",
            "0                                        1894\\n\\n...       2\n",
            "0                                        1903\\n\\n...       2\n",
            "0  Preliminary Matter.  \\n\\nThis text of Melville...       2\n"
          ]
        },
        {
          "output_type": "display_data",
          "data": {
            "image/png": "[encoded data removed]",
            "text/plain": [
              "<Figure size 432x288 with 1 Axes>"
            ]
          },
          "metadata": {
            "needs_background": "light"
          }
        }
      ]
    },
    {
      "cell_type": "markdown",
      "source": [
        "Аналогично технической литературе возьмем из них лишь некоторые подстроки небольшой длинны так, чтобы размер датасета был примерно сопоставим с датасетом твиттера"
      ],
      "metadata": {
        "id": "ZGNWFCNiAdAd"
      }
    },
    {
      "cell_type": "code",
      "source": [
        "generated_data = []\n",
        "count = 11000\n",
        "lit_data[\"text\"].apply(extract_random_substrings)\n",
        "\n",
        "lit_data_parsed = pd.DataFrame(data={\"text\": generated_data, \"target\": [2] * len(generated_data)})\n",
        "\n",
        "draw_stats(lit_data_parsed)"
      ],
      "metadata": {
        "colab": {
          "base_uri": "https://localhost:8080/",
          "height": 571
        },
        "id": "1sNYYgbBiODr",
        "outputId": "a52106e6-a4ac-48d9-afda-bfc2959da91d"
      },
      "execution_count": 8,
      "outputs": [
        {
          "output_type": "stream",
          "name": "stdout",
          "text": [
            "stats : \n",
            "count    77000.000000\n",
            "mean        94.865182\n",
            "std         32.096521\n",
            "min         40.000000\n",
            "25%         67.000000\n",
            "50%         95.000000\n",
            "75%        123.000000\n",
            "max        150.000000\n",
            "dtype: float64\n",
            "samples =  77000\n",
            "                                                text  target\n",
            "0  \\nsubject.\\n\\n  `Go on with the next verse,' t...       2\n",
            "1  sometimes she scolded herself so\\nseverely as ...       2\n",
            "2  arm a great\\nletter, nearly as large as himsel...       2\n",
            "3  just in time to hear it\\nsay, as it turned a c...       2\n",
            "4  Mary Ann!' said the voice.  `Fetch me my glove...       2\n"
          ]
        },
        {
          "output_type": "display_data",
          "data": {
            "image/png": "[encoded data removed]",
            "text/plain": [
              "<Figure size 432x288 with 1 Axes>"
            ]
          },
          "metadata": {
            "needs_background": "light"
          }
        }
      ]
    },
    {
      "cell_type": "markdown",
      "source": [
        "Объединим все датасеты в один"
      ],
      "metadata": {
        "id": "qMksTdaMAmsN"
      }
    },
    {
      "cell_type": "code",
      "source": [
        "data = pd.concat([сolloquialism_data, tech_data_parsed, lit_data_parsed])\n",
        "data"
      ],
      "metadata": {
        "colab": {
          "base_uri": "https://localhost:8080/",
          "height": 419
        },
        "id": "lFki7CwayVws",
        "outputId": "6b70fd27-8b90-40ff-d97b-121190dd1bc2"
      },
      "execution_count": 9,
      "outputs": [
        {
          "output_type": "execute_result",
          "data": {
            "text/html": [
              "\n",
              "  <div id=\"df-c8f89617-21e1-4c4d-8a7c-fb7d61d2b467\">\n",
              "    <div class=\"colab-df-container\">\n",
              "      <div>\n",
              "<style scoped>\n",
              "    .dataframe tbody tr th:only-of-type {\n",
              "        vertical-align: middle;\n",
              "    }\n",
              "\n",
              "    .dataframe tbody tr th {\n",
              "        vertical-align: top;\n",
              "    }\n",
              "\n",
              "    .dataframe thead th {\n",
              "        text-align: right;\n",
              "    }\n",
              "</style>\n",
              "<table border=\"1\" class=\"dataframe\">\n",
              "  <thead>\n",
              "    <tr style=\"text-align: right;\">\n",
              "      <th></th>\n",
              "      <th>text</th>\n",
              "      <th>target</th>\n",
              "    </tr>\n",
              "  </thead>\n",
              "  <tbody>\n",
              "    <tr>\n",
              "      <th>0</th>\n",
              "      <td>im getting on borderlands and i will murder yo...</td>\n",
              "      <td>0</td>\n",
              "    </tr>\n",
              "    <tr>\n",
              "      <th>1</th>\n",
              "      <td>I am coming to the borders and I will kill you...</td>\n",
              "      <td>0</td>\n",
              "    </tr>\n",
              "    <tr>\n",
              "      <th>2</th>\n",
              "      <td>im getting on borderlands and i will kill you ...</td>\n",
              "      <td>0</td>\n",
              "    </tr>\n",
              "    <tr>\n",
              "      <th>3</th>\n",
              "      <td>im coming on borderlands and i will murder you...</td>\n",
              "      <td>0</td>\n",
              "    </tr>\n",
              "    <tr>\n",
              "      <th>4</th>\n",
              "      <td>im getting on borderlands 2 and i will murder ...</td>\n",
              "      <td>0</td>\n",
              "    </tr>\n",
              "    <tr>\n",
              "      <th>...</th>\n",
              "      <td>...</td>\n",
              "      <td>...</td>\n",
              "    </tr>\n",
              "    <tr>\n",
              "      <th>76995</th>\n",
              "      <td>ge the narrow limits of our raft for the myste...</td>\n",
              "      <td>2</td>\n",
              "    </tr>\n",
              "    <tr>\n",
              "      <th>76996</th>\n",
              "      <td>spur of rock came down through the arid groun...</td>\n",
              "      <td>2</td>\n",
              "    </tr>\n",
              "    <tr>\n",
              "      <th>76997</th>\n",
              "      <td>{CHAPTER_2 ^paragraph 45}\\n</td>\n",
              "      <td>2</td>\n",
              "    </tr>\n",
              "    <tr>\n",
              "      <th>76998</th>\n",
              "      <td>ney of a volcano there could no longer\\nbe the...</td>\n",
              "      <td>2</td>\n",
              "    </tr>\n",
              "    <tr>\n",
              "      <th>76999</th>\n",
              "      <td>its fearful\\nrival, the Plesiosaurus, or sea ...</td>\n",
              "      <td>2</td>\n",
              "    </tr>\n",
              "  </tbody>\n",
              "</table>\n",
              "<p>224092 rows × 2 columns</p>\n",
              "</div>\n",
              "      <button class=\"colab-df-convert\" onclick=\"convertToInteractive('df-c8f89617-21e1-4c4d-8a7c-fb7d61d2b467')\"\n",
              "              title=\"Convert this dataframe to an interactive table.\"\n",
              "              style=\"display:none;\">\n",
              "        \n",
              "  <svg xmlns=\"http://www.w3.org/2000/svg\" height=\"24px\"viewBox=\"0 0 24 24\"\n",
              "       width=\"24px\">\n",
              "    <path d=\"M0 0h24v24H0V0z\" fill=\"none\"/>\n",
              "    <path d=\"M18.56 5.44l.94 2.06.94-2.06 2.06-.94-2.06-.94-.94-2.06-.94 2.06-2.06.94zm-11 1L8.5 8.5l.94-2.06 2.06-.94-2.06-.94L8.5 2.5l-.94 2.06-2.06.94zm10 10l.94 2.06.94-2.06 2.06-.94-2.06-.94-.94-2.06-.94 2.06-2.06.94z\"/><path d=\"M17.41 7.96l-1.37-1.37c-.4-.4-.92-.59-1.43-.59-.52 0-1.04.2-1.43.59L10.3 9.45l-7.72 7.72c-.78.78-.78 2.05 0 2.83L4 21.41c.39.39.9.59 1.41.59.51 0 1.02-.2 1.41-.59l7.78-7.78 2.81-2.81c.8-.78.8-2.07 0-2.86zM5.41 20L4 18.59l7.72-7.72 1.47 1.35L5.41 20z\"/>\n",
              "  </svg>\n",
              "      </button>\n",
              "      \n",
              "  <style>\n",
              "    .colab-df-container {\n",
              "      display:flex;\n",
              "      flex-wrap:wrap;\n",
              "      gap: 12px;\n",
              "    }\n",
              "\n",
              "    .colab-df-convert {\n",
              "      background-color: #E8F0FE;\n",
              "      border: none;\n",
              "      border-radius: 50%;\n",
              "      cursor: pointer;\n",
              "      display: none;\n",
              "      fill: #1967D2;\n",
              "      height: 32px;\n",
              "      padding: 0 0 0 0;\n",
              "      width: 32px;\n",
              "    }\n",
              "\n",
              "    .colab-df-convert:hover {\n",
              "      background-color: #E2EBFA;\n",
              "      box-shadow: 0px 1px 2px rgba(60, 64, 67, 0.3), 0px 1px 3px 1px rgba(60, 64, 67, 0.15);\n",
              "      fill: #174EA6;\n",
              "    }\n",
              "\n",
              "    [theme=dark] .colab-df-convert {\n",
              "      background-color: #3B4455;\n",
              "      fill: #D2E3FC;\n",
              "    }\n",
              "\n",
              "    [theme=dark] .colab-df-convert:hover {\n",
              "      background-color: #434B5C;\n",
              "      box-shadow: 0px 1px 3px 1px rgba(0, 0, 0, 0.15);\n",
              "      filter: drop-shadow(0px 1px 2px rgba(0, 0, 0, 0.3));\n",
              "      fill: #FFFFFF;\n",
              "    }\n",
              "  </style>\n",
              "\n",
              "      <script>\n",
              "        const buttonEl =\n",
              "          document.querySelector('#df-c8f89617-21e1-4c4d-8a7c-fb7d61d2b467 button.colab-df-convert');\n",
              "        buttonEl.style.display =\n",
              "          google.colab.kernel.accessAllowed ? 'block' : 'none';\n",
              "\n",
              "        async function convertToInteractive(key) {\n",
              "          const element = document.querySelector('#df-c8f89617-21e1-4c4d-8a7c-fb7d61d2b467');\n",
              "          const dataTable =\n",
              "            await google.colab.kernel.invokeFunction('convertToInteractive',\n",
              "                                                     [key], {});\n",
              "          if (!dataTable) return;\n",
              "\n",
              "          const docLinkHtml = 'Like what you see? Visit the ' +\n",
              "            '<a target=\"_blank\" href=https://colab.research.google.com/notebooks/data_table.ipynb>data table notebook</a>'\n",
              "            + ' to learn more about interactive tables.';\n",
              "          element.innerHTML = '';\n",
              "          dataTable['output_type'] = 'display_data';\n",
              "          await google.colab.output.renderOutput(dataTable, element);\n",
              "          const docLink = document.createElement('div');\n",
              "          docLink.innerHTML = docLinkHtml;\n",
              "          element.appendChild(docLink);\n",
              "        }\n",
              "      </script>\n",
              "    </div>\n",
              "  </div>\n",
              "  "
            ],
            "text/plain": [
              "                                                    text  target\n",
              "0      im getting on borderlands and i will murder yo...       0\n",
              "1      I am coming to the borders and I will kill you...       0\n",
              "2      im getting on borderlands and i will kill you ...       0\n",
              "3      im coming on borderlands and i will murder you...       0\n",
              "4      im getting on borderlands 2 and i will murder ...       0\n",
              "...                                                  ...     ...\n",
              "76995  ge the narrow limits of our raft for the myste...       2\n",
              "76996   spur of rock came down through the arid groun...       2\n",
              "76997                       {CHAPTER_2 ^paragraph 45}\\n        2\n",
              "76998  ney of a volcano there could no longer\\nbe the...       2\n",
              "76999   its fearful\\nrival, the Plesiosaurus, or sea ...       2\n",
              "\n",
              "[224092 rows x 2 columns]"
            ]
          },
          "metadata": {},
          "execution_count": 9
        }
      ]
    },
    {
      "cell_type": "markdown",
      "source": [
        "Разделим выборку на трейн и тест"
      ],
      "metadata": {
        "id": "2YZJjsy7Ap29"
      }
    },
    {
      "cell_type": "code",
      "source": [
        "from sklearn.model_selection import train_test_split\n",
        "texts = data['text'].values\n",
        "target = data['target'].values\n",
        "texts_train, texts_test, y_train, y_test = train_test_split(texts, target, test_size=0.2, random_state=42)"
      ],
      "metadata": {
        "id": "WbOp5wZn0R1v"
      },
      "execution_count": 10,
      "outputs": []
    },
    {
      "cell_type": "markdown",
      "source": [
        "Добавим токенизатор для того, чтобы учесть знаки пунктуации и распарсить слова"
      ],
      "metadata": {
        "id": "uZhYUQW_AsJ7"
      }
    },
    {
      "cell_type": "code",
      "source": [
        "from nltk.tokenize import WordPunctTokenizer\n",
        "\n",
        "tokenizer = WordPunctTokenizer()\n",
        "texts_train = [' '.join(tokenizer.tokenize(text.lower())) for text in texts_train]\n",
        "texts_test = [' '.join(tokenizer.tokenize(text.lower())) for text in texts_test]"
      ],
      "metadata": {
        "id": "p3blYKg8xNsW"
      },
      "execution_count": 11,
      "outputs": []
    },
    {
      "cell_type": "markdown",
      "source": [
        "Для обучения будем использовать tfidf токенизатор, который определенным образом учитывает вхождение каждого слова в текст и строит матрицу TF-IDF фичей"
      ],
      "metadata": {
        "id": "clZTjFW1A8p1"
      }
    },
    {
      "cell_type": "code",
      "source": [
        "from sklearn.feature_extraction.text import TfidfVectorizer\n",
        "\n",
        "vectorizer = TfidfVectorizer()\n",
        "X_train = vectorizer.fit_transform(texts_train)\n",
        "X_test = vectorizer.transform(texts_test)"
      ],
      "metadata": {
        "id": "QHn8dzW-1RHw"
      },
      "execution_count": 12,
      "outputs": []
    },
    {
      "cell_type": "markdown",
      "source": [
        "Попробуем в самом простом случае применить логистическую регрессию на нескольких классах (а именно трех)"
      ],
      "metadata": {
        "id": "xW48hRFcBJqo"
      }
    },
    {
      "cell_type": "code",
      "source": [
        "from sklearn.linear_model import LogisticRegression\n",
        "\n",
        "tf_idf_model = LogisticRegression(max_iter=1000).fit(X_train, y_train)"
      ],
      "metadata": {
        "id": "LjLts_8b2ujG"
      },
      "execution_count": 13,
      "outputs": []
    },
    {
      "cell_type": "markdown",
      "source": [
        "Посмотрим на качество"
      ],
      "metadata": {
        "id": "kbzrxMEZBPlS"
      }
    },
    {
      "cell_type": "code",
      "source": [
        "from sklearn.metrics import accuracy_score\n",
        "\n",
        "for name, X, y, model in [\n",
        "    ('train', X_train, y_train, tf_idf_model),\n",
        "    ('test ', X_test, y_test, tf_idf_model)\n",
        "]:\n",
        "    print(\"accuracy on\", name, \"=\", accuracy_score(y, model.predict(X)))"
      ],
      "metadata": {
        "colab": {
          "base_uri": "https://localhost:8080/"
        },
        "id": "zKOKoBr13FvX",
        "outputId": "5d4f6fef-79ef-453c-e8eb-9f6ac70c753c"
      },
      "execution_count": 14,
      "outputs": [
        {
          "output_type": "stream",
          "name": "stdout",
          "text": [
            "accuracy on train = 0.9840801459226989\n",
            "accuracy on test  = 0.9733372007407572\n"
          ]
        }
      ]
    },
    {
      "cell_type": "markdown",
      "source": [
        "Как ни странно, но модель очень хорошо обучилась и мы получили очень хорошее качество на тесте. Применять более сложные модели в данном случае не вижу смысла"
      ],
      "metadata": {
        "id": "iOOEQri5BRls"
      }
    },
    {
      "cell_type": "markdown",
      "source": [
        "Проверим нашу модель на каких-то придуманных самими примерах"
      ],
      "metadata": {
        "id": "bsbAcaEsBcDv"
      }
    },
    {
      "cell_type": "code",
      "source": [
        "texts = [\"I love girls\", \"How are you today?\", \"Neural networks worked well with dropout\", \"London is a very beautiful place\", \"Happy families are all alike; every unhappy family is unhappy in its own way.\"]\n",
        "\n",
        "parsed_texts = [' '.join(tokenizer.tokenize(text.lower())) for text in texts]\n",
        "parsed_texts = vectorizer.transform(parsed_texts)\n",
        "for text, res in zip(texts, model.predict(parsed_texts)):\n",
        "  print(text, \" - \", end=\"\")\n",
        "  if res == 0: \n",
        "    print(\"разговорный\")\n",
        "  elif res == 1: \n",
        "    print(\"техническая литература\")\n",
        "  else: \n",
        "    print(\"художественная литература\")\n"
      ],
      "metadata": {
        "colab": {
          "base_uri": "https://localhost:8080/"
        },
        "id": "RbFJPWgZ38n7",
        "outputId": "858e4799-c5bc-4238-8958-1d96c0adac17"
      },
      "execution_count": 25,
      "outputs": [
        {
          "output_type": "stream",
          "name": "stdout",
          "text": [
            "I love girls  - разговорный\n",
            "How are you today?  - разговорный\n",
            "Neural networks worked well with dropout  - техническая литература\n",
            "London is a very beautiful place  - художественная литература\n",
            "Happy families are all alike; every unhappy family is unhappy in its own way.  - художественная литература\n"
          ]
        }
      ]
    },
    {
      "cell_type": "markdown",
      "source": [
        "Работает очень даже неплохо"
      ],
      "metadata": {
        "id": "2vkWFF4mBgcb"
      }
    },
    {
      "cell_type": "markdown",
      "source": [
        "Сохраним модель для применения"
      ],
      "metadata": {
        "id": "OGeYBrDaBjVZ"
      }
    },
    {
      "cell_type": "code",
      "source": [
        "import pickle\n",
        "\n",
        "pickle.dump(vectorizer, open(\"tfidf.pickle\", \"wb\"))\n",
        "pickle.dump(model, open(\"model.pickle\", \"wb\"))"
      ],
      "metadata": {
        "id": "Bh2VlEzz9W0r"
      },
      "execution_count": 19,
      "outputs": []
    },
    {
      "cell_type": "markdown",
      "source": [
        "Попробуем загрузить модель и применить ее на конкретном примере"
      ],
      "metadata": {
        "id": "kZ64xyY6Bmll"
      }
    },
    {
      "cell_type": "code",
      "source": [
        "with open(\"model.pickle\", 'rb') as f:\n",
        "  model_load = pickle.load(f)\n",
        "\n",
        "with open(\"tfidf.pickle\", 'rb') as f:\n",
        "  vectorizer_load = pickle.load(f)\n",
        "\n",
        "curr_text = \"I'm fine, thanks\"\n",
        "\n",
        "\n",
        "parsed_text = ' '.join(tokenizer.tokenize(curr_text.lower()))\n",
        "parsed_text = vectorizer_load.transform([parsed_text])\n",
        "res = model_load.predict(parsed_text)[0]\n",
        "print(curr_text, \" - \", end=\"\")\n",
        "if res == 0: \n",
        "  print(\"разговорный\")\n",
        "elif res == 1: \n",
        "  print(\"техническая литература\")\n",
        "else: \n",
        "  print(\"художественная литература\")"
      ],
      "metadata": {
        "colab": {
          "base_uri": "https://localhost:8080/"
        },
        "id": "a1SkUEJK8B06",
        "outputId": "bc4297c6-db97-4340-a42a-50c42461b140"
      },
      "execution_count": 26,
      "outputs": [
        {
          "output_type": "stream",
          "name": "stdout",
          "text": [
            "I'm fine, thanks  - разговорный\n"
          ]
        }
      ]
    },
    {
      "cell_type": "markdown",
      "source": [
        "Отлично, всё работает!"
      ],
      "metadata": {
        "id": "G3hi0rusBqsH"
      }
    }
  ]
}